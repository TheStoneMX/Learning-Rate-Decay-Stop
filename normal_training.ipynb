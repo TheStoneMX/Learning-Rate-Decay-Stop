{
 "cells": [
  {
   "cell_type": "code",
   "execution_count": 1,
   "metadata": {},
   "outputs": [],
   "source": [
    "%matplotlib inline\n",
    "%config InlineBackend.figure_format = 'retina'\n",
    "\n",
    "import matplotlib.pyplot as plt\n",
    "import numpy as np\n",
    "import time\n",
    "\n",
    "import torch\n",
    "from torch import nn\n",
    "from torch import optim\n",
    "import torch.nn.functional as F\n",
    "from torchvision import datasets, transforms\n",
    "\n",
    "import helper\n",
    "#from network_class import Network\n"
   ]
  },
  {
   "cell_type": "code",
   "execution_count": 2,
   "metadata": {},
   "outputs": [],
   "source": [
    "# Define a transform to normalize the data\n",
    "transform = transforms.Compose([transforms.ToTensor(),\n",
    "                                transforms.Normalize((0.5, 0.5, 0.5), (0.5, 0.5, 0.5))])\n",
    "# Download and load the training data\n",
    "trainset = datasets.FashionMNIST('F_MNIST_data/', download=True, train=True, transform=transform)\n",
    "trainloader = torch.utils.data.DataLoader(trainset, batch_size=64, shuffle=True)\n",
    "\n",
    "# Download and load the test data\n",
    "testset = datasets.FashionMNIST('F_MNIST_data/', download=True, train=False, transform=transform)\n",
    "testloader = torch.utils.data.DataLoader(testset, batch_size=64, shuffle=True)"
   ]
  },
  {
   "cell_type": "code",
   "execution_count": 3,
   "metadata": {},
   "outputs": [],
   "source": [
    "# Implement a function for the validation pass\n",
    "def validation(model, testloader, criterion):\n",
    "    test_loss = 0\n",
    "    accuracy = 0\n",
    "    for images, labels in testloader:\n",
    "\n",
    "        images.resize_(images.shape[0], 784)\n",
    "\n",
    "        output = model.forward(images)\n",
    "        test_loss += criterion(output, labels).item()\n",
    "\n",
    "        ps = torch.exp(output)\n",
    "        equality = (labels.data == ps.max(dim=1)[1])\n",
    "        accuracy += equality.type(torch.FloatTensor).mean()\n",
    "    \n",
    "    return test_loss, accuracy"
   ]
  },
  {
   "cell_type": "code",
   "execution_count": 4,
   "metadata": {},
   "outputs": [],
   "source": [
    "class Network(nn.Module):\n",
    "    def __init__(self, input_size, output_size, hidden_layers, drop_p=0.5):\n",
    "        ''' Builds a feedforward network with arbitrary hidden layers.\n",
    "        \n",
    "            Arguments\n",
    "            ---------\n",
    "            input_size: integer, size of the input\n",
    "            output_size: integer, size of the output layer\n",
    "            hidden_layers: list of integers, the sizes of the hidden layers\n",
    "            drop_p: float between 0 and 1, dropout probability\n",
    "        '''\n",
    "        super().__init__()\n",
    "        # Add the first layer, input to a hidden layer\n",
    "        self.hidden_layers = nn.ModuleList([nn.Linear(input_size, hidden_layers[0])])\n",
    "        \n",
    "        # Add a variable number of more hidden layers\n",
    "        layer_sizes = zip(hidden_layers[:-1], hidden_layers[1:])\n",
    "        self.hidden_layers.extend([nn.Linear(h1, h2) for h1, h2 in layer_sizes])\n",
    "        \n",
    "        self.output = nn.Linear(hidden_layers[-1], output_size)\n",
    "        \n",
    "        self.dropout = nn.Dropout(p=drop_p)\n",
    "        \n",
    "    def forward(self, x):\n",
    "        ''' Forward pass through the network, returns the output logits '''\n",
    "        \n",
    "        # Forward through each layer in `hidden_layers`, with ReLU activation and dropout\n",
    "        for linear in self.hidden_layers:\n",
    "            x = F.relu(linear(x))\n",
    "            x = self.dropout(x)\n",
    "        \n",
    "        x = self.output(x)\n",
    "        \n",
    "        return F.log_softmax(x, dim=1)\n"
   ]
  },
  {
   "cell_type": "code",
   "execution_count": 14,
   "metadata": {},
   "outputs": [],
   "source": [
    "def train_net(n_epochs, print_every ):\n",
    "\n",
    "    steps = 0\n",
    "    losses = []\n",
    "\n",
    "    for e in range(n_epochs):\n",
    "\n",
    "        model.train()\n",
    "        running_loss = 0.0\n",
    "\n",
    "\n",
    "        for images, labels in trainloader:\n",
    "            steps += 1\n",
    "\n",
    "            # Flatten images into a 784 long vector\n",
    "            images.resize_(images.size()[0], 784)\n",
    "\n",
    "            # zero the parameter (weight) gradients\n",
    "            optimizer.zero_grad()\n",
    "\n",
    "            # images batch to FFNW\n",
    "            output = model.forward(images)\n",
    "\n",
    "            # calculate the loss between predicted and target keypoints\n",
    "            loss = criterion(output, labels)\n",
    "\n",
    "            # backward pass to calculate the weight gradients\n",
    "            loss.backward()\n",
    "\n",
    "            # update the weights\n",
    "            optimizer.step()\n",
    "\n",
    "            running_loss += loss.item()\n",
    "\n",
    "            if steps % print_every == 299:\n",
    "                # Make sure network is in eval mode for inference\n",
    "                model.eval()\n",
    "\n",
    "                # Turn off gradients for validation, saves memory and computations\n",
    "                with torch.no_grad():\n",
    "                    test_loss, accuracy = validation(model, testloader, criterion)\n",
    "\n",
    "                # print loss statistics\n",
    "                print(\"Epoch: {}/{}.. \".format(e+1, n_epochs),\n",
    "                      \"Training Loss: {:.3f}.. \".format(running_loss/print_every),\n",
    "                      \"Test Loss: {:.3f}.. \".format(test_loss/len(testloader)),\n",
    "                      \"Test Accuracy: {:.3f}\".format(accuracy/len(testloader)))\n",
    "                running_loss = 0\n",
    "\n",
    "                # Make sure training is back on\n",
    "                model.train()\n",
    "        losses.append(running_loss)\n",
    "\n",
    "    print('Finished Training')\n",
    "    return losses\n",
    "\n"
   ]
  },
  {
   "cell_type": "code",
   "execution_count": 15,
   "metadata": {},
   "outputs": [
    {
     "name": "stdout",
     "output_type": "stream",
     "text": [
      "Network(\n",
      "  (hidden_layers): ModuleList(\n",
      "    (0): Linear(in_features=784, out_features=516, bias=True)\n",
      "    (1): Linear(in_features=516, out_features=256, bias=True)\n",
      "    (2): Linear(in_features=256, out_features=128, bias=True)\n",
      "  )\n",
      "  (output): Linear(in_features=128, out_features=10, bias=True)\n",
      "  (dropout): Dropout(p=0.2)\n",
      ")\n"
     ]
    }
   ],
   "source": [
    "# Create the network, define the criterion and optimizer\n",
    "model = Network(784, 10, [516, 256,128], drop_p=0.2)\n",
    "print(model)\n",
    "\n",
    "criterion = nn.NLLLoss()\n",
    "optimizer = optim.Adam(model.parameters(), lr=0.001)"
   ]
  },
  {
   "cell_type": "code",
   "execution_count": null,
   "metadata": {},
   "outputs": [],
   "source": []
  },
  {
   "cell_type": "code",
   "execution_count": 16,
   "metadata": {},
   "outputs": [
    {
     "name": "stdout",
     "output_type": "stream",
     "text": [
      "Epoch: 1/10..  Training Loss: 0.699..  Test Loss: 0.510..  Test Accuracy: 0.811\n",
      "Epoch: 1/10..  Training Loss: 0.499..  Test Loss: 0.465..  Test Accuracy: 0.835\n",
      "Epoch: 1/10..  Training Loss: 0.465..  Test Loss: 0.435..  Test Accuracy: 0.845\n",
      "Epoch: 2/10..  Training Loss: 0.374..  Test Loss: 0.444..  Test Accuracy: 0.834\n",
      "Epoch: 2/10..  Training Loss: 0.425..  Test Loss: 0.431..  Test Accuracy: 0.847\n",
      "Epoch: 2/10..  Training Loss: 0.406..  Test Loss: 0.399..  Test Accuracy: 0.859\n",
      "Epoch: 3/10..  Training Loss: 0.289..  Test Loss: 0.404..  Test Accuracy: 0.856\n",
      "Epoch: 3/10..  Training Loss: 0.383..  Test Loss: 0.422..  Test Accuracy: 0.841\n",
      "Epoch: 3/10..  Training Loss: 0.377..  Test Loss: 0.403..  Test Accuracy: 0.853\n",
      "Epoch: 4/10..  Training Loss: 0.223..  Test Loss: 0.370..  Test Accuracy: 0.867\n",
      "Epoch: 4/10..  Training Loss: 0.350..  Test Loss: 0.399..  Test Accuracy: 0.856\n",
      "Epoch: 4/10..  Training Loss: 0.362..  Test Loss: 0.381..  Test Accuracy: 0.865\n",
      "Epoch: 5/10..  Training Loss: 0.166..  Test Loss: 0.365..  Test Accuracy: 0.867\n",
      "Epoch: 5/10..  Training Loss: 0.344..  Test Loss: 0.377..  Test Accuracy: 0.864\n",
      "Epoch: 5/10..  Training Loss: 0.345..  Test Loss: 0.382..  Test Accuracy: 0.867\n",
      "Epoch: 6/10..  Training Loss: 0.119..  Test Loss: 0.356..  Test Accuracy: 0.873\n",
      "Epoch: 6/10..  Training Loss: 0.326..  Test Loss: 0.353..  Test Accuracy: 0.873\n",
      "Epoch: 6/10..  Training Loss: 0.331..  Test Loss: 0.359..  Test Accuracy: 0.868\n",
      "Epoch: 7/10..  Training Loss: 0.078..  Test Loss: 0.355..  Test Accuracy: 0.876\n",
      "Epoch: 7/10..  Training Loss: 0.309..  Test Loss: 0.350..  Test Accuracy: 0.876\n",
      "Epoch: 7/10..  Training Loss: 0.317..  Test Loss: 0.364..  Test Accuracy: 0.872\n",
      "Epoch: 8/10..  Training Loss: 0.036..  Test Loss: 0.340..  Test Accuracy: 0.877\n",
      "Epoch: 8/10..  Training Loss: 0.307..  Test Loss: 0.351..  Test Accuracy: 0.875\n",
      "Epoch: 8/10..  Training Loss: 0.308..  Test Loss: 0.337..  Test Accuracy: 0.879\n",
      "Epoch: 8/10..  Training Loss: 0.309..  Test Loss: 0.341..  Test Accuracy: 0.877\n",
      "Epoch: 9/10..  Training Loss: 0.279..  Test Loss: 0.351..  Test Accuracy: 0.879\n",
      "Epoch: 9/10..  Training Loss: 0.304..  Test Loss: 0.340..  Test Accuracy: 0.884\n",
      "Epoch: 9/10..  Training Loss: 0.307..  Test Loss: 0.362..  Test Accuracy: 0.870\n",
      "Epoch: 10/10..  Training Loss: 0.250..  Test Loss: 0.348..  Test Accuracy: 0.874\n",
      "Epoch: 10/10..  Training Loss: 0.290..  Test Loss: 0.337..  Test Accuracy: 0.879\n",
      "Epoch: 10/10..  Training Loss: 0.292..  Test Loss: 0.335..  Test Accuracy: 0.882\n",
      "Finished Training\n"
     ]
    }
   ],
   "source": [
    "# train your network\n",
    "n_epochs = 10 # start small, and increase when you've decided on your model structure and hyperparams\n",
    "print_every = 300\n",
    "losses = train_net(n_epochs,print_every)"
   ]
  },
  {
   "cell_type": "code",
   "execution_count": 17,
   "metadata": {},
   "outputs": [
    {
     "data": {
      "image/png": "[encoded data removed]",
      "text/plain": [
       "<Figure size 432x288 with 1 Axes>"
      ]
     },
     "metadata": {
      "image/png": {
       "height": 263,
       "width": 389
      },
      "needs_background": "light"
     },
     "output_type": "display_data"
    }
   ],
   "source": [
    "plt.figure(figsize=(10,8))\n",
    "plt.semilogy(losses)\n",
    "plt.grid()\n",
    "plt.xlabel('Epoch')\n",
    "plt.ylabel('MSE');\n",
    "plt.show()"
   ]
  },
  {
   "cell_type": "code",
   "execution_count": 36,
   "metadata": {},
   "outputs": [],
   "source": [
    "#now we have the model trained we Inference"
   ]
  },
  {
   "cell_type": "code",
   "execution_count": 37,
   "metadata": {},
   "outputs": [
    {
     "data": {
      "image/png": "[encoded data removed]",
      "text/plain": [
       "<Figure size 432x648 with 2 Axes>"
      ]
     },
     "metadata": {
      "image/png": {
       "height": 206,
       "width": 423
      },
      "needs_background": "light"
     },
     "output_type": "display_data"
    }
   ],
   "source": [
    "# Test out your network!\n",
    "\n",
    "model.eval()\n",
    "\n",
    "dataiter = iter(testloader)\n",
    "images, labels = dataiter.next()\n",
    "img = images[0]\n",
    "# Convert 2D image to 1D vector\n",
    "img = img.view(1, 784)\n",
    "\n",
    "# Calculate the class probabilities (softmax) for img\n",
    "with torch.no_grad():\n",
    "    output = model.forward(img)\n",
    "\n",
    "ps = torch.exp(output)\n",
    "\n",
    "# Plot the image and probabilities\n",
    "helper.view_classify(img.view(1, 28, 28), ps, version='Fashion')"
   ]
  }
 ],
 "metadata": {
  "kernelspec": {
   "display_name": "Python 3",
   "language": "python",
   "name": "python3"
  },
  "language_info": {
   "codemirror_mode": {
    "name": "ipython",
    "version": 3
   },
   "file_extension": ".py",
   "mimetype": "text/x-python",
   "name": "python",
   "nbconvert_exporter": "python",
   "pygments_lexer": "ipython3",
   "version": "3.7.0"
  }
 },
 "nbformat": 4,
 "nbformat_minor": 2
}
